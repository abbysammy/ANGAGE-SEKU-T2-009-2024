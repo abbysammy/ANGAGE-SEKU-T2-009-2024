{
 "cells": [
  {
   "cell_type": "code",
   "execution_count": 3,
   "id": "669308e7-b968-4e45-8d0a-f319044b8ca2",
   "metadata": {},
   "outputs": [],
   "source": [
    "import pandas as pd\n"
   ]
  },
  {
   "cell_type": "code",
   "execution_count": 4,
   "id": "7543686d-1a7c-4957-96f6-7de8d2510055",
   "metadata": {},
   "outputs": [],
   "source": [
    "df=pd.read_csv('VACCINE IMMUNIZATION.csv')"
   ]
  },
  {
   "cell_type": "code",
   "execution_count": 5,
   "id": "3285160d-a84c-4464-b304-b3eb74579291",
   "metadata": {},
   "outputs": [
    {
     "data": {
      "text/html": [
       "<div>\n",
       "<style scoped>\n",
       "    .dataframe tbody tr th:only-of-type {\n",
       "        vertical-align: middle;\n",
       "    }\n",
       "\n",
       "    .dataframe tbody tr th {\n",
       "        vertical-align: top;\n",
       "    }\n",
       "\n",
       "    .dataframe thead th {\n",
       "        text-align: right;\n",
       "    }\n",
       "</style>\n",
       "<table border=\"1\" class=\"dataframe\">\n",
       "  <thead>\n",
       "    <tr style=\"text-align: right;\">\n",
       "      <th></th>\n",
       "      <th>CHILD NO</th>\n",
       "      <th>SEX</th>\n",
       "      <th>Y.O.B</th>\n",
       "      <th>FAMILY STATUS</th>\n",
       "      <th>RESIDENCE</th>\n",
       "      <th>BIRTH DOSE</th>\n",
       "      <th>1ST DOSE</th>\n",
       "      <th>2ND DOSE</th>\n",
       "      <th>3RD DOSE</th>\n",
       "      <th>VIT A</th>\n",
       "      <th>MR 1</th>\n",
       "      <th>MR 2</th>\n",
       "      <th>COMPLETION STATUS</th>\n",
       "    </tr>\n",
       "  </thead>\n",
       "  <tbody>\n",
       "    <tr>\n",
       "      <th>0</th>\n",
       "      <td>1</td>\n",
       "      <td>female</td>\n",
       "      <td>Dec-19</td>\n",
       "      <td>2</td>\n",
       "      <td>mulunduni</td>\n",
       "      <td>2</td>\n",
       "      <td>4</td>\n",
       "      <td>4</td>\n",
       "      <td>4</td>\n",
       "      <td>1</td>\n",
       "      <td>1</td>\n",
       "      <td>0</td>\n",
       "      <td>0.0</td>\n",
       "    </tr>\n",
       "    <tr>\n",
       "      <th>1</th>\n",
       "      <td>2</td>\n",
       "      <td>female</td>\n",
       "      <td>Jan-20</td>\n",
       "      <td>2</td>\n",
       "      <td>unyaa</td>\n",
       "      <td>2</td>\n",
       "      <td>4</td>\n",
       "      <td>4</td>\n",
       "      <td>4</td>\n",
       "      <td>1</td>\n",
       "      <td>1</td>\n",
       "      <td>0</td>\n",
       "      <td>0.0</td>\n",
       "    </tr>\n",
       "    <tr>\n",
       "      <th>2</th>\n",
       "      <td>3</td>\n",
       "      <td>male</td>\n",
       "      <td>Jan-20</td>\n",
       "      <td>2</td>\n",
       "      <td>kwa vonza</td>\n",
       "      <td>2</td>\n",
       "      <td>4</td>\n",
       "      <td>4</td>\n",
       "      <td>4</td>\n",
       "      <td>0</td>\n",
       "      <td>1</td>\n",
       "      <td>0</td>\n",
       "      <td>0.0</td>\n",
       "    </tr>\n",
       "    <tr>\n",
       "      <th>3</th>\n",
       "      <td>4</td>\n",
       "      <td>male</td>\n",
       "      <td>Jun-19</td>\n",
       "      <td>1</td>\n",
       "      <td>kwa vonza</td>\n",
       "      <td>0</td>\n",
       "      <td>4</td>\n",
       "      <td>4</td>\n",
       "      <td>4</td>\n",
       "      <td>1</td>\n",
       "      <td>1</td>\n",
       "      <td>1</td>\n",
       "      <td>0.0</td>\n",
       "    </tr>\n",
       "    <tr>\n",
       "      <th>4</th>\n",
       "      <td>5</td>\n",
       "      <td>male</td>\n",
       "      <td>Jul-20</td>\n",
       "      <td>2</td>\n",
       "      <td>ndumoni</td>\n",
       "      <td>2</td>\n",
       "      <td>4</td>\n",
       "      <td>4</td>\n",
       "      <td>4</td>\n",
       "      <td>1</td>\n",
       "      <td>1</td>\n",
       "      <td>1</td>\n",
       "      <td>1.0</td>\n",
       "    </tr>\n",
       "    <tr>\n",
       "      <th>5</th>\n",
       "      <td>6</td>\n",
       "      <td>male</td>\n",
       "      <td>Jul-20</td>\n",
       "      <td>2</td>\n",
       "      <td>ndumoni</td>\n",
       "      <td>2</td>\n",
       "      <td>4</td>\n",
       "      <td>4</td>\n",
       "      <td>4</td>\n",
       "      <td>0</td>\n",
       "      <td>0</td>\n",
       "      <td>0</td>\n",
       "      <td>0.0</td>\n",
       "    </tr>\n",
       "    <tr>\n",
       "      <th>6</th>\n",
       "      <td>7</td>\n",
       "      <td>female</td>\n",
       "      <td>Jul-20</td>\n",
       "      <td>2</td>\n",
       "      <td>masimba</td>\n",
       "      <td>2</td>\n",
       "      <td>4</td>\n",
       "      <td>4</td>\n",
       "      <td>4</td>\n",
       "      <td>1</td>\n",
       "      <td>1</td>\n",
       "      <td>0</td>\n",
       "      <td>0.0</td>\n",
       "    </tr>\n",
       "    <tr>\n",
       "      <th>7</th>\n",
       "      <td>8</td>\n",
       "      <td>male</td>\n",
       "      <td>Aug-20</td>\n",
       "      <td>2</td>\n",
       "      <td>kyamathyaka</td>\n",
       "      <td>2</td>\n",
       "      <td>4</td>\n",
       "      <td>4</td>\n",
       "      <td>4</td>\n",
       "      <td>1</td>\n",
       "      <td>0</td>\n",
       "      <td>0</td>\n",
       "      <td>0.0</td>\n",
       "    </tr>\n",
       "    <tr>\n",
       "      <th>8</th>\n",
       "      <td>9</td>\n",
       "      <td>male</td>\n",
       "      <td>Aug-20</td>\n",
       "      <td>2</td>\n",
       "      <td>syongila</td>\n",
       "      <td>2</td>\n",
       "      <td>4</td>\n",
       "      <td>4</td>\n",
       "      <td>4</td>\n",
       "      <td>0</td>\n",
       "      <td>0</td>\n",
       "      <td>0</td>\n",
       "      <td>0.0</td>\n",
       "    </tr>\n",
       "    <tr>\n",
       "      <th>9</th>\n",
       "      <td>10</td>\n",
       "      <td>female</td>\n",
       "      <td>Sep-20</td>\n",
       "      <td>2</td>\n",
       "      <td>matinyani</td>\n",
       "      <td>2</td>\n",
       "      <td>4</td>\n",
       "      <td>4</td>\n",
       "      <td>4</td>\n",
       "      <td>0</td>\n",
       "      <td>0</td>\n",
       "      <td>0</td>\n",
       "      <td>0.0</td>\n",
       "    </tr>\n",
       "  </tbody>\n",
       "</table>\n",
       "</div>"
      ],
      "text/plain": [
       "   CHILD NO     SEX   Y.O.B FAMILY STATUS    RESIDENCE  BIRTH DOSE  1ST DOSE  \\\n",
       "0         1  female  Dec-19             2    mulunduni           2         4   \n",
       "1         2  female  Jan-20             2        unyaa           2         4   \n",
       "2         3    male  Jan-20             2    kwa vonza           2         4   \n",
       "3         4    male  Jun-19             1    kwa vonza           0         4   \n",
       "4         5    male  Jul-20             2      ndumoni           2         4   \n",
       "5         6    male  Jul-20             2      ndumoni           2         4   \n",
       "6         7  female  Jul-20             2      masimba           2         4   \n",
       "7         8    male  Aug-20             2  kyamathyaka           2         4   \n",
       "8         9    male  Aug-20             2     syongila           2         4   \n",
       "9        10  female  Sep-20             2    matinyani           2         4   \n",
       "\n",
       "   2ND DOSE  3RD DOSE  VIT A  MR 1  MR 2  COMPLETION STATUS  \n",
       "0         4         4      1     1     0                0.0  \n",
       "1         4         4      1     1     0                0.0  \n",
       "2         4         4      0     1     0                0.0  \n",
       "3         4         4      1     1     1                0.0  \n",
       "4         4         4      1     1     1                1.0  \n",
       "5         4         4      0     0     0                0.0  \n",
       "6         4         4      1     1     0                0.0  \n",
       "7         4         4      1     0     0                0.0  \n",
       "8         4         4      0     0     0                0.0  \n",
       "9         4         4      0     0     0                0.0  "
      ]
     },
     "execution_count": 5,
     "metadata": {},
     "output_type": "execute_result"
    }
   ],
   "source": [
    "df.head(10)"
   ]
  },
  {
   "cell_type": "code",
   "execution_count": 6,
   "id": "7282c08b-099e-477f-963d-c8349cc68f90",
   "metadata": {},
   "outputs": [
    {
     "data": {
      "text/html": [
       "<div>\n",
       "<style scoped>\n",
       "    .dataframe tbody tr th:only-of-type {\n",
       "        vertical-align: middle;\n",
       "    }\n",
       "\n",
       "    .dataframe tbody tr th {\n",
       "        vertical-align: top;\n",
       "    }\n",
       "\n",
       "    .dataframe thead th {\n",
       "        text-align: right;\n",
       "    }\n",
       "</style>\n",
       "<table border=\"1\" class=\"dataframe\">\n",
       "  <thead>\n",
       "    <tr style=\"text-align: right;\">\n",
       "      <th></th>\n",
       "      <th>CHILD NO</th>\n",
       "      <th>SEX</th>\n",
       "      <th>Y.O.B</th>\n",
       "      <th>FAMILY STATUS</th>\n",
       "      <th>RESIDENCE</th>\n",
       "      <th>BIRTH DOSE</th>\n",
       "      <th>1ST DOSE</th>\n",
       "      <th>2ND DOSE</th>\n",
       "      <th>3RD DOSE</th>\n",
       "      <th>VIT A</th>\n",
       "      <th>MR 1</th>\n",
       "      <th>MR 2</th>\n",
       "      <th>COMPLETION STATUS</th>\n",
       "    </tr>\n",
       "  </thead>\n",
       "  <tbody>\n",
       "    <tr>\n",
       "      <th>1361</th>\n",
       "      <td>1362</td>\n",
       "      <td>male</td>\n",
       "      <td>Aug-19</td>\n",
       "      <td>2</td>\n",
       "      <td>unyaa</td>\n",
       "      <td>2</td>\n",
       "      <td>4</td>\n",
       "      <td>4</td>\n",
       "      <td>4</td>\n",
       "      <td>1</td>\n",
       "      <td>1</td>\n",
       "      <td>1</td>\n",
       "      <td>1.0</td>\n",
       "    </tr>\n",
       "    <tr>\n",
       "      <th>1362</th>\n",
       "      <td>1363</td>\n",
       "      <td>male</td>\n",
       "      <td>Oct-19</td>\n",
       "      <td>2</td>\n",
       "      <td>syongila</td>\n",
       "      <td>2</td>\n",
       "      <td>4</td>\n",
       "      <td>4</td>\n",
       "      <td>4</td>\n",
       "      <td>0</td>\n",
       "      <td>1</td>\n",
       "      <td>1</td>\n",
       "      <td>0.0</td>\n",
       "    </tr>\n",
       "    <tr>\n",
       "      <th>1363</th>\n",
       "      <td>1364</td>\n",
       "      <td>female</td>\n",
       "      <td>Nov-19</td>\n",
       "      <td>1</td>\n",
       "      <td>mulutu</td>\n",
       "      <td>1</td>\n",
       "      <td>4</td>\n",
       "      <td>4</td>\n",
       "      <td>4</td>\n",
       "      <td>0</td>\n",
       "      <td>1</td>\n",
       "      <td>1</td>\n",
       "      <td>0.0</td>\n",
       "    </tr>\n",
       "    <tr>\n",
       "      <th>1364</th>\n",
       "      <td>1365</td>\n",
       "      <td>male</td>\n",
       "      <td>Oct-19</td>\n",
       "      <td>2</td>\n",
       "      <td>unyaa</td>\n",
       "      <td>2</td>\n",
       "      <td>4</td>\n",
       "      <td>4</td>\n",
       "      <td>4</td>\n",
       "      <td>0</td>\n",
       "      <td>1</td>\n",
       "      <td>1</td>\n",
       "      <td>0.0</td>\n",
       "    </tr>\n",
       "    <tr>\n",
       "      <th>1365</th>\n",
       "      <td>1366</td>\n",
       "      <td>female</td>\n",
       "      <td>Nov-19</td>\n",
       "      <td>2</td>\n",
       "      <td>tanganyika</td>\n",
       "      <td>2</td>\n",
       "      <td>4</td>\n",
       "      <td>4</td>\n",
       "      <td>4</td>\n",
       "      <td>0</td>\n",
       "      <td>1</td>\n",
       "      <td>1</td>\n",
       "      <td>0.0</td>\n",
       "    </tr>\n",
       "    <tr>\n",
       "      <th>1366</th>\n",
       "      <td>1367</td>\n",
       "      <td>female</td>\n",
       "      <td>Sep-19</td>\n",
       "      <td>2</td>\n",
       "      <td>ndumoni</td>\n",
       "      <td>2</td>\n",
       "      <td>4</td>\n",
       "      <td>4</td>\n",
       "      <td>4</td>\n",
       "      <td>0</td>\n",
       "      <td>1</td>\n",
       "      <td>1</td>\n",
       "      <td>0.0</td>\n",
       "    </tr>\n",
       "    <tr>\n",
       "      <th>1367</th>\n",
       "      <td>1368</td>\n",
       "      <td>male</td>\n",
       "      <td>Nov-19</td>\n",
       "      <td>1</td>\n",
       "      <td>mulutu</td>\n",
       "      <td>1</td>\n",
       "      <td>1</td>\n",
       "      <td>1</td>\n",
       "      <td>1</td>\n",
       "      <td>0</td>\n",
       "      <td>0</td>\n",
       "      <td>0</td>\n",
       "      <td>0.0</td>\n",
       "    </tr>\n",
       "    <tr>\n",
       "      <th>1368</th>\n",
       "      <td>1369</td>\n",
       "      <td>male</td>\n",
       "      <td>Jun-20</td>\n",
       "      <td>2</td>\n",
       "      <td>tanganyika</td>\n",
       "      <td>2</td>\n",
       "      <td>4</td>\n",
       "      <td>0</td>\n",
       "      <td>0</td>\n",
       "      <td>0</td>\n",
       "      <td>0</td>\n",
       "      <td>0</td>\n",
       "      <td>0.0</td>\n",
       "    </tr>\n",
       "    <tr>\n",
       "      <th>1369</th>\n",
       "      <td>1370</td>\n",
       "      <td>male</td>\n",
       "      <td>Nov-19</td>\n",
       "      <td>2</td>\n",
       "      <td>kwa vonza</td>\n",
       "      <td>2</td>\n",
       "      <td>1</td>\n",
       "      <td>1</td>\n",
       "      <td>1</td>\n",
       "      <td>0</td>\n",
       "      <td>0</td>\n",
       "      <td>0</td>\n",
       "      <td>0.0</td>\n",
       "    </tr>\n",
       "    <tr>\n",
       "      <th>1370</th>\n",
       "      <td>1371</td>\n",
       "      <td>female</td>\n",
       "      <td>Jun-19</td>\n",
       "      <td>2</td>\n",
       "      <td>kaveta</td>\n",
       "      <td>2</td>\n",
       "      <td>1</td>\n",
       "      <td>1</td>\n",
       "      <td>1</td>\n",
       "      <td>0</td>\n",
       "      <td>0</td>\n",
       "      <td>0</td>\n",
       "      <td>0.0</td>\n",
       "    </tr>\n",
       "  </tbody>\n",
       "</table>\n",
       "</div>"
      ],
      "text/plain": [
       "      CHILD NO     SEX   Y.O.B FAMILY STATUS   RESIDENCE  BIRTH DOSE  \\\n",
       "1361      1362    male  Aug-19             2       unyaa           2   \n",
       "1362      1363    male  Oct-19             2    syongila           2   \n",
       "1363      1364  female  Nov-19             1      mulutu           1   \n",
       "1364      1365    male  Oct-19             2       unyaa           2   \n",
       "1365      1366  female  Nov-19             2  tanganyika           2   \n",
       "1366      1367  female  Sep-19             2     ndumoni           2   \n",
       "1367      1368    male  Nov-19             1      mulutu           1   \n",
       "1368      1369    male  Jun-20             2  tanganyika           2   \n",
       "1369      1370    male  Nov-19             2   kwa vonza           2   \n",
       "1370      1371  female  Jun-19             2      kaveta           2   \n",
       "\n",
       "      1ST DOSE  2ND DOSE  3RD DOSE  VIT A  MR 1  MR 2  COMPLETION STATUS  \n",
       "1361         4         4         4      1     1     1                1.0  \n",
       "1362         4         4         4      0     1     1                0.0  \n",
       "1363         4         4         4      0     1     1                0.0  \n",
       "1364         4         4         4      0     1     1                0.0  \n",
       "1365         4         4         4      0     1     1                0.0  \n",
       "1366         4         4         4      0     1     1                0.0  \n",
       "1367         1         1         1      0     0     0                0.0  \n",
       "1368         4         0         0      0     0     0                0.0  \n",
       "1369         1         1         1      0     0     0                0.0  \n",
       "1370         1         1         1      0     0     0                0.0  "
      ]
     },
     "execution_count": 6,
     "metadata": {},
     "output_type": "execute_result"
    }
   ],
   "source": [
    "df.tail(10)"
   ]
  },
  {
   "cell_type": "code",
   "execution_count": 7,
   "id": "b662c1a6-d1ec-42b6-95e9-94da59476de9",
   "metadata": {},
   "outputs": [
    {
     "data": {
      "text/plain": [
       "CHILD NO             0\n",
       "SEX                  0\n",
       "Y.O.B                0\n",
       "FAMILY STATUS        0\n",
       "RESIDENCE            2\n",
       "BIRTH DOSE           0\n",
       "1ST DOSE             0\n",
       "2ND DOSE             0\n",
       "3RD DOSE             0\n",
       "VIT A                0\n",
       "MR 1                 0\n",
       "MR 2                 0\n",
       "COMPLETION STATUS    1\n",
       "dtype: int64"
      ]
     },
     "execution_count": 7,
     "metadata": {},
     "output_type": "execute_result"
    }
   ],
   "source": [
    "df.isnull().sum()"
   ]
  },
  {
   "cell_type": "code",
   "execution_count": 8,
   "id": "e1976874-2279-4ede-9188-b27657f526d3",
   "metadata": {},
   "outputs": [],
   "source": [
    "df=df.dropna()"
   ]
  },
  {
   "cell_type": "code",
   "execution_count": 9,
   "id": "e6b5cfe6-2928-42ec-bf90-0d0bc93b15b0",
   "metadata": {},
   "outputs": [
    {
     "name": "stdout",
     "output_type": "stream",
     "text": [
      "(1368, 13)\n"
     ]
    }
   ],
   "source": [
    "print(df.shape)"
   ]
  },
  {
   "cell_type": "code",
   "execution_count": 10,
   "id": "ed31efe5-c53f-433c-8be5-785b47a37d13",
   "metadata": {},
   "outputs": [
    {
     "name": "stdout",
     "output_type": "stream",
     "text": [
      "<class 'pandas.core.frame.DataFrame'>\n",
      "Index: 1368 entries, 0 to 1370\n",
      "Data columns (total 13 columns):\n",
      " #   Column             Non-Null Count  Dtype  \n",
      "---  ------             --------------  -----  \n",
      " 0   CHILD NO           1368 non-null   int64  \n",
      " 1   SEX                1368 non-null   object \n",
      " 2   Y.O.B              1368 non-null   object \n",
      " 3   FAMILY STATUS      1368 non-null   object \n",
      " 4   RESIDENCE          1368 non-null   object \n",
      " 5   BIRTH DOSE         1368 non-null   int64  \n",
      " 6   1ST DOSE           1368 non-null   int64  \n",
      " 7   2ND DOSE           1368 non-null   int64  \n",
      " 8   3RD DOSE           1368 non-null   int64  \n",
      " 9   VIT A              1368 non-null   int64  \n",
      " 10  MR 1               1368 non-null   int64  \n",
      " 11  MR 2               1368 non-null   int64  \n",
      " 12  COMPLETION STATUS  1368 non-null   float64\n",
      "dtypes: float64(1), int64(8), object(4)\n",
      "memory usage: 149.6+ KB\n",
      "None\n"
     ]
    }
   ],
   "source": [
    "print(df.info())\n"
   ]
  },
  {
   "cell_type": "code",
   "execution_count": 11,
   "id": "53dc9fa0-3514-4d5e-b287-f9bfed6383b5",
   "metadata": {},
   "outputs": [
    {
     "name": "stdout",
     "output_type": "stream",
     "text": [
      "          CHILD NO   BIRTH DOSE     1ST DOSE     2ND DOSE     3RD DOSE  \\\n",
      "count  1368.000000  1368.000000  1368.000000  1368.000000  1368.000000   \n",
      "mean    685.996345     1.883772     3.743421     3.372807     3.002924   \n",
      "std     395.840837     0.399817     0.927883     1.408997     1.693394   \n",
      "min       1.000000     0.000000     0.000000     0.000000     0.000000   \n",
      "25%     343.750000     2.000000     4.000000     4.000000     2.000000   \n",
      "50%     686.500000     2.000000     4.000000     4.000000     4.000000   \n",
      "75%    1028.250000     2.000000     4.000000     4.000000     4.000000   \n",
      "max    1371.000000     2.000000     4.000000     4.000000     4.000000   \n",
      "\n",
      "             VIT A         MR 1         MR 2  COMPLETION STATUS  \n",
      "count  1368.000000  1368.000000  1368.000000        1368.000000  \n",
      "mean      0.323830     0.523392     0.255848           0.148392  \n",
      "std       0.477392     0.499635     0.436496           0.355618  \n",
      "min       0.000000     0.000000     0.000000           0.000000  \n",
      "25%       0.000000     0.000000     0.000000           0.000000  \n",
      "50%       0.000000     1.000000     0.000000           0.000000  \n",
      "75%       1.000000     1.000000     1.000000           0.000000  \n",
      "max       4.000000     1.000000     1.000000           1.000000  \n"
     ]
    }
   ],
   "source": [
    "print(df.describe())"
   ]
  },
  {
   "cell_type": "code",
   "execution_count": 12,
   "id": "7972907a-33fb-48d1-a90d-6525f804fc44",
   "metadata": {},
   "outputs": [
    {
     "name": "stdout",
     "output_type": "stream",
     "text": [
      "0\n"
     ]
    }
   ],
   "source": [
    "print(df.duplicated().sum())"
   ]
  },
  {
   "cell_type": "code",
   "execution_count": 13,
   "id": "cb405c0c-624a-48f9-967a-b6652225cb39",
   "metadata": {},
   "outputs": [],
   "source": [
    "df=df.drop_duplicates()"
   ]
  },
  {
   "cell_type": "code",
   "execution_count": 36,
   "id": "f5a64191-aa93-4a4e-b343-97051904caaa",
   "metadata": {},
   "outputs": [],
   "source": [
    "df.to_csv('cleaned_data.csv',index=False)"
   ]
  },
  {
   "cell_type": "code",
   "execution_count": 37,
   "id": "23705a52-279d-413b-919d-5c926fddeaad",
   "metadata": {},
   "outputs": [],
   "source": [
    "df=pd.read_csv('VACCINE IMMUNIZATION.csv')"
   ]
  },
  {
   "cell_type": "code",
   "execution_count": 38,
   "id": "225dcd81-bd07-4ed0-9b16-adf2cf7e0c54",
   "metadata": {},
   "outputs": [
    {
     "data": {
      "text/html": [
       "<div>\n",
       "<style scoped>\n",
       "    .dataframe tbody tr th:only-of-type {\n",
       "        vertical-align: middle;\n",
       "    }\n",
       "\n",
       "    .dataframe tbody tr th {\n",
       "        vertical-align: top;\n",
       "    }\n",
       "\n",
       "    .dataframe thead th {\n",
       "        text-align: right;\n",
       "    }\n",
       "</style>\n",
       "<table border=\"1\" class=\"dataframe\">\n",
       "  <thead>\n",
       "    <tr style=\"text-align: right;\">\n",
       "      <th></th>\n",
       "      <th>CHILD NO</th>\n",
       "      <th>SEX</th>\n",
       "      <th>Y.O.B</th>\n",
       "      <th>FAMILY STATUS</th>\n",
       "      <th>RESIDENCE</th>\n",
       "      <th>BIRTH DOSE</th>\n",
       "      <th>1ST DOSE</th>\n",
       "      <th>2ND DOSE</th>\n",
       "      <th>3RD DOSE</th>\n",
       "      <th>VIT A</th>\n",
       "      <th>MR 1</th>\n",
       "      <th>MR 2</th>\n",
       "      <th>COMPLETION STATUS</th>\n",
       "    </tr>\n",
       "  </thead>\n",
       "  <tbody>\n",
       "  </tbody>\n",
       "</table>\n",
       "</div>"
      ],
      "text/plain": [
       "Empty DataFrame\n",
       "Columns: [CHILD NO, SEX, Y.O.B, FAMILY STATUS, RESIDENCE, BIRTH DOSE, 1ST DOSE, 2ND DOSE, 3RD DOSE, VIT A, MR 1, MR 2, COMPLETION STATUS]\n",
       "Index: []"
      ]
     },
     "execution_count": 38,
     "metadata": {},
     "output_type": "execute_result"
    }
   ],
   "source": [
    "df_cleaned.head(5)\n"
   ]
  },
  {
   "cell_type": "code",
   "execution_count": 39,
   "id": "a0508c61-f566-47f4-9a41-6bc33d263f4a",
   "metadata": {},
   "outputs": [
    {
     "data": {
      "text/html": [
       "<div>\n",
       "<style scoped>\n",
       "    .dataframe tbody tr th:only-of-type {\n",
       "        vertical-align: middle;\n",
       "    }\n",
       "\n",
       "    .dataframe tbody tr th {\n",
       "        vertical-align: top;\n",
       "    }\n",
       "\n",
       "    .dataframe thead th {\n",
       "        text-align: right;\n",
       "    }\n",
       "</style>\n",
       "<table border=\"1\" class=\"dataframe\">\n",
       "  <thead>\n",
       "    <tr style=\"text-align: right;\">\n",
       "      <th></th>\n",
       "      <th>CHILD NO</th>\n",
       "      <th>SEX</th>\n",
       "      <th>Y.O.B</th>\n",
       "      <th>FAMILY STATUS</th>\n",
       "      <th>RESIDENCE</th>\n",
       "      <th>BIRTH DOSE</th>\n",
       "      <th>1ST DOSE</th>\n",
       "      <th>2ND DOSE</th>\n",
       "      <th>3RD DOSE</th>\n",
       "      <th>VIT A</th>\n",
       "      <th>MR 1</th>\n",
       "      <th>MR 2</th>\n",
       "      <th>COMPLETION STATUS</th>\n",
       "    </tr>\n",
       "  </thead>\n",
       "  <tbody>\n",
       "  </tbody>\n",
       "</table>\n",
       "</div>"
      ],
      "text/plain": [
       "Empty DataFrame\n",
       "Columns: [CHILD NO, SEX, Y.O.B, FAMILY STATUS, RESIDENCE, BIRTH DOSE, 1ST DOSE, 2ND DOSE, 3RD DOSE, VIT A, MR 1, MR 2, COMPLETION STATUS]\n",
       "Index: []"
      ]
     },
     "execution_count": 39,
     "metadata": {},
     "output_type": "execute_result"
    }
   ],
   "source": [
    "df_cleaned.tail(10)"
   ]
  },
  {
   "cell_type": "code",
   "execution_count": 40,
   "id": "de831ad9-1b70-4b8b-86fa-40fb74019087",
   "metadata": {},
   "outputs": [
    {
     "data": {
      "text/plain": [
       "(0, 13)"
      ]
     },
     "execution_count": 40,
     "metadata": {},
     "output_type": "execute_result"
    }
   ],
   "source": [
    "df_cleaned.shape"
   ]
  },
  {
   "cell_type": "code",
   "execution_count": 41,
   "id": "7164a0bc-b58d-47e4-af60-3f416d8fb9d8",
   "metadata": {},
   "outputs": [
    {
     "name": "stdout",
     "output_type": "stream",
     "text": [
      "<class 'pandas.core.frame.DataFrame'>\n",
      "Index: 1370 entries, 0 to 1370\n",
      "Data columns (total 13 columns):\n",
      " #   Column             Non-Null Count  Dtype  \n",
      "---  ------             --------------  -----  \n",
      " 0   CHILD NO           1370 non-null   int64  \n",
      " 1   SEX                1370 non-null   object \n",
      " 2   Y.O.B              1370 non-null   object \n",
      " 3   FAMILY STATUS      1370 non-null   object \n",
      " 4   RESIDENCE          1368 non-null   object \n",
      " 5   BIRTH DOSE         1370 non-null   int64  \n",
      " 6   1ST DOSE           1370 non-null   int64  \n",
      " 7   2ND DOSE           1370 non-null   int64  \n",
      " 8   3RD DOSE           1370 non-null   int64  \n",
      " 9   VIT A              1370 non-null   int64  \n",
      " 10  MR 1               1370 non-null   int64  \n",
      " 11  MR 2               1370 non-null   int64  \n",
      " 12  COMPLETION STATUS  1370 non-null   float64\n",
      "dtypes: float64(1), int64(8), object(4)\n",
      "memory usage: 149.8+ KB\n"
     ]
    }
   ],
   "source": [
    "df['COMPLETION STATUS']=pd.to_numeric(df['COMPLETION STATUS'],errors='coerce')\n",
    "df_cleaned=df.dropna(subset='COMPLETION STATUS')\n",
    "df_cleaned.info()"
   ]
  },
  {
   "cell_type": "code",
   "execution_count": 42,
   "id": "8b597f60-4ac0-4f49-a55e-8a92e944a8a3",
   "metadata": {},
   "outputs": [],
   "source": [
    "df['COMPLETION STATUS']=df['COMPLETION STATUS'].fillna('Incomplete')"
   ]
  },
  {
   "cell_type": "code",
   "execution_count": 21,
   "id": "0400861f-d999-498d-8101-2b4b182b43d4",
   "metadata": {},
   "outputs": [
    {
     "name": "stdout",
     "output_type": "stream",
     "text": [
      "<class 'pandas.core.frame.DataFrame'>\n",
      "Index: 1370 entries, 0 to 1370\n",
      "Data columns (total 13 columns):\n",
      " #   Column             Non-Null Count  Dtype  \n",
      "---  ------             --------------  -----  \n",
      " 0   CHILD NO           1370 non-null   int64  \n",
      " 1   SEX                1370 non-null   object \n",
      " 2   Y.O.B              1370 non-null   object \n",
      " 3   FAMILY STATUS      1370 non-null   float64\n",
      " 4   RESIDENCE          1368 non-null   object \n",
      " 5   BIRTH DOSE         1370 non-null   int64  \n",
      " 6   1ST DOSE           1370 non-null   int64  \n",
      " 7   2ND DOSE           1370 non-null   int64  \n",
      " 8   3RD DOSE           1370 non-null   int64  \n",
      " 9   VIT A              1370 non-null   int64  \n",
      " 10  MR 1               1370 non-null   int64  \n",
      " 11  MR 2               1370 non-null   int64  \n",
      " 12  COMPLETION STATUS  1370 non-null   object \n",
      "dtypes: float64(1), int64(8), object(4)\n",
      "memory usage: 149.8+ KB\n"
     ]
    }
   ],
   "source": [
    "df['FAMILY STATUS']=pd.to_numeric(df['FAMILY STATUS'],errors='coerce')\n",
    "df_cleaned=df.dropna(subset='FAMILY STATUS')\n",
    "df_cleaned.info()"
   ]
  },
  {
   "cell_type": "code",
   "execution_count": 45,
   "id": "01101fef-6b69-4e6f-958c-6d3e625535cc",
   "metadata": {},
   "outputs": [],
   "source": [
    "X=df_cleaned.drop(columns=['FAMILY STATUS','RESIDENCE','SEX'])\n",
    "y=df_cleaned['COMPLETION STATUS']\n",
    "X=X.to_numpy()\n",
    "y=y.to_numpy()\n"
   ]
  },
  {
   "cell_type": "code",
   "execution_count": 46,
   "id": "2166e56b-14dd-45b4-a4b4-6820e51b01f8",
   "metadata": {},
   "outputs": [
    {
     "name": "stdout",
     "output_type": "stream",
     "text": [
      "<class 'pandas.core.frame.DataFrame'>\n",
      "Index: 1370 entries, 0 to 1370\n",
      "Data columns (total 13 columns):\n",
      " #   Column             Non-Null Count  Dtype  \n",
      "---  ------             --------------  -----  \n",
      " 0   CHILD NO           1370 non-null   int64  \n",
      " 1   SEX                1370 non-null   object \n",
      " 2   Y.O.B              1370 non-null   object \n",
      " 3   FAMILY STATUS      1370 non-null   float64\n",
      " 4   RESIDENCE          1368 non-null   object \n",
      " 5   BIRTH DOSE         1370 non-null   int64  \n",
      " 6   1ST DOSE           1370 non-null   int64  \n",
      " 7   2ND DOSE           1370 non-null   int64  \n",
      " 8   3RD DOSE           1370 non-null   int64  \n",
      " 9   VIT A              1370 non-null   int64  \n",
      " 10  MR 1               1370 non-null   int64  \n",
      " 11  MR 2               1370 non-null   int64  \n",
      " 12  COMPLETION STATUS  1370 non-null   object \n",
      "dtypes: float64(1), int64(8), object(4)\n",
      "memory usage: 149.8+ KB\n"
     ]
    }
   ],
   "source": [
    "df['FAMILY STATUS']=pd.to_numeric(df['FAMILY STATUS'],errors='coerce')\n",
    "df_cleaned=df.dropna(subset='FAMILY STATUS')\n",
    "df_cleaned.info()"
   ]
  },
  {
   "cell_type": "code",
   "execution_count": 47,
   "id": "5865f8b4-8631-4b43-bc22-075da30de9d6",
   "metadata": {},
   "outputs": [
    {
     "name": "stdout",
     "output_type": "stream",
     "text": [
      "<class 'pandas.core.frame.DataFrame'>\n",
      "Index: 0 entries\n",
      "Data columns (total 13 columns):\n",
      " #   Column             Non-Null Count  Dtype  \n",
      "---  ------             --------------  -----  \n",
      " 0   CHILD NO           0 non-null      int64  \n",
      " 1   SEX                0 non-null      object \n",
      " 2   Y.O.B              0 non-null      float64\n",
      " 3   FAMILY STATUS      0 non-null      float64\n",
      " 4   RESIDENCE          0 non-null      object \n",
      " 5   BIRTH DOSE         0 non-null      int64  \n",
      " 6   1ST DOSE           0 non-null      int64  \n",
      " 7   2ND DOSE           0 non-null      int64  \n",
      " 8   3RD DOSE           0 non-null      int64  \n",
      " 9   VIT A              0 non-null      int64  \n",
      " 10  MR 1               0 non-null      int64  \n",
      " 11  MR 2               0 non-null      int64  \n",
      " 12  COMPLETION STATUS  0 non-null      object \n",
      "dtypes: float64(2), int64(8), object(3)\n",
      "memory usage: 0.0+ bytes\n"
     ]
    }
   ],
   "source": [
    "df['Y.O.B']=pd.to_numeric(df['Y.O.B'],errors='coerce')\n",
    "df_cleaned=df.dropna(subset='Y.O.B')\n",
    "df_cleaned.info()"
   ]
  },
  {
   "cell_type": "code",
   "execution_count": 48,
   "id": "dc64472e-9caf-4e57-9a49-22d25e1d58d8",
   "metadata": {},
   "outputs": [
    {
     "name": "stdout",
     "output_type": "stream",
     "text": [
      "      sex  sex_encoded\n",
      "0  Female            0\n",
      "1    Male            1\n",
      "2    Male            1\n",
      "3  Female            0\n"
     ]
    }
   ],
   "source": [
    "from sklearn.preprocessing import LabelEncoder\n",
    "import pandas as pd\n",
    "data=pd.DataFrame({'sex':['Female','Male','Male','Female']})\n",
    "le=LabelEncoder()\n",
    "data['sex_encoded']=le.fit_transform(data['sex'])\n",
    "print(data)"
   ]
  },
  {
   "cell_type": "code",
   "execution_count": 49,
   "id": "160debe5-cac9-44a1-8f74-ca19f3a316c4",
   "metadata": {},
   "outputs": [
    {
     "name": "stdout",
     "output_type": "stream",
     "text": [
      "sex            object\n",
      "sex_encoded     int32\n",
      "dtype: object\n"
     ]
    }
   ],
   "source": [
    "print(data.dtypes)"
   ]
  },
  {
   "cell_type": "code",
   "execution_count": 50,
   "id": "3fc46641-58dd-462d-bc7d-e444e15fac58",
   "metadata": {},
   "outputs": [
    {
     "name": "stdout",
     "output_type": "stream",
     "text": [
      "[nan]\n"
     ]
    }
   ],
   "source": [
    "print(df['Y.O.B'].unique())"
   ]
  },
  {
   "cell_type": "code",
   "execution_count": 51,
   "id": "bc4a8c57-97ab-4661-90ae-378b17251382",
   "metadata": {},
   "outputs": [
    {
     "name": "stdout",
     "output_type": "stream",
     "text": [
      "1371\n"
     ]
    }
   ],
   "source": [
    "df['Y.O.B']=pd.to_numeric(df['Y.O.B'],errors='coerce')\n",
    "print(df['Y.O.B'].isna().sum())"
   ]
  },
  {
   "cell_type": "code",
   "execution_count": 52,
   "id": "f0cb7479-344c-4565-aa5e-7fd5df8e8bd7",
   "metadata": {},
   "outputs": [],
   "source": [
    "df.dropna(subset=['Y.O.B'],inplace=True)\n",
    "df['Y.O.B']=pd.to_numeric(df['Y.O.B'])"
   ]
  },
  {
   "cell_type": "code",
   "execution_count": 53,
   "id": "8bf3bf08-2674-496d-8a87-1029228363ab",
   "metadata": {},
   "outputs": [],
   "source": [
    "import scipy.stats as stats\n",
    "from sklearn.linear_model import LogisticRegression\n",
    "from sklearn.model_selection import train_test_split\n",
    "from sklearn.metrics import accuracy_score,confusion_matrix,classification_report\n",
    "model=LogisticRegression()"
   ]
  },
  {
   "cell_type": "code",
   "execution_count": 54,
   "id": "61bd54a2-7962-402c-a32f-f39d5f12cfaa",
   "metadata": {},
   "outputs": [],
   "source": [
    "model=LogisticRegression()"
   ]
  },
  {
   "cell_type": "code",
   "execution_count": 55,
   "id": "78a9d8d1-8c22-482c-8e22-067753ad11ae",
   "metadata": {},
   "outputs": [],
   "source": [
    "import numpy as np\n",
    "n_samples=1370\n",
    "data=np.random.rand(n_samples,5)\n",
    "test_size=0.3"
   ]
  },
  {
   "cell_type": "code",
   "execution_count": 56,
   "id": "3d853001-1d4a-44d9-b939-21df967fcfa1",
   "metadata": {},
   "outputs": [],
   "source": [
    "X=data\n",
    "Y=data\n",
    "X_train,X_test,y_train,y_test=train_test_split(X,y,test_size=0.2,random_state=42)"
   ]
  },
  {
   "cell_type": "code",
   "execution_count": 57,
   "id": "1a7d25a8-fd8c-4d62-9b15-cb8f07413988",
   "metadata": {},
   "outputs": [
    {
     "name": "stdout",
     "output_type": "stream",
     "text": [
      "(1096, 5)\n",
      "(1096,)\n"
     ]
    }
   ],
   "source": [
    "print(X_train.shape)\n",
    "print(y_train.shape)"
   ]
  },
  {
   "cell_type": "code",
   "execution_count": 59,
   "id": "934e8ce3-833d-4135-8798-1cafd849e75a",
   "metadata": {},
   "outputs": [
    {
     "data": {
      "text/html": [
       "<style>#sk-container-id-1 {\n",
       "  /* Definition of color scheme common for light and dark mode */\n",
       "  --sklearn-color-text: black;\n",
       "  --sklearn-color-line: gray;\n",
       "  /* Definition of color scheme for unfitted estimators */\n",
       "  --sklearn-color-unfitted-level-0: #fff5e6;\n",
       "  --sklearn-color-unfitted-level-1: #f6e4d2;\n",
       "  --sklearn-color-unfitted-level-2: #ffe0b3;\n",
       "  --sklearn-color-unfitted-level-3: chocolate;\n",
       "  /* Definition of color scheme for fitted estimators */\n",
       "  --sklearn-color-fitted-level-0: #f0f8ff;\n",
       "  --sklearn-color-fitted-level-1: #d4ebff;\n",
       "  --sklearn-color-fitted-level-2: #b3dbfd;\n",
       "  --sklearn-color-fitted-level-3: cornflowerblue;\n",
       "\n",
       "  /* Specific color for light theme */\n",
       "  --sklearn-color-text-on-default-background: var(--sg-text-color, var(--theme-code-foreground, var(--jp-content-font-color1, black)));\n",
       "  --sklearn-color-background: var(--sg-background-color, var(--theme-background, var(--jp-layout-color0, white)));\n",
       "  --sklearn-color-border-box: var(--sg-text-color, var(--theme-code-foreground, var(--jp-content-font-color1, black)));\n",
       "  --sklearn-color-icon: #696969;\n",
       "\n",
       "  @media (prefers-color-scheme: dark) {\n",
       "    /* Redefinition of color scheme for dark theme */\n",
       "    --sklearn-color-text-on-default-background: var(--sg-text-color, var(--theme-code-foreground, var(--jp-content-font-color1, white)));\n",
       "    --sklearn-color-background: var(--sg-background-color, var(--theme-background, var(--jp-layout-color0, #111)));\n",
       "    --sklearn-color-border-box: var(--sg-text-color, var(--theme-code-foreground, var(--jp-content-font-color1, white)));\n",
       "    --sklearn-color-icon: #878787;\n",
       "  }\n",
       "}\n",
       "\n",
       "#sk-container-id-1 {\n",
       "  color: var(--sklearn-color-text);\n",
       "}\n",
       "\n",
       "#sk-container-id-1 pre {\n",
       "  padding: 0;\n",
       "}\n",
       "\n",
       "#sk-container-id-1 input.sk-hidden--visually {\n",
       "  border: 0;\n",
       "  clip: rect(1px 1px 1px 1px);\n",
       "  clip: rect(1px, 1px, 1px, 1px);\n",
       "  height: 1px;\n",
       "  margin: -1px;\n",
       "  overflow: hidden;\n",
       "  padding: 0;\n",
       "  position: absolute;\n",
       "  width: 1px;\n",
       "}\n",
       "\n",
       "#sk-container-id-1 div.sk-dashed-wrapped {\n",
       "  border: 1px dashed var(--sklearn-color-line);\n",
       "  margin: 0 0.4em 0.5em 0.4em;\n",
       "  box-sizing: border-box;\n",
       "  padding-bottom: 0.4em;\n",
       "  background-color: var(--sklearn-color-background);\n",
       "}\n",
       "\n",
       "#sk-container-id-1 div.sk-container {\n",
       "  /* jupyter's `normalize.less` sets `[hidden] { display: none; }`\n",
       "     but bootstrap.min.css set `[hidden] { display: none !important; }`\n",
       "     so we also need the `!important` here to be able to override the\n",
       "     default hidden behavior on the sphinx rendered scikit-learn.org.\n",
       "     See: https://github.com/scikit-learn/scikit-learn/issues/21755 */\n",
       "  display: inline-block !important;\n",
       "  position: relative;\n",
       "}\n",
       "\n",
       "#sk-container-id-1 div.sk-text-repr-fallback {\n",
       "  display: none;\n",
       "}\n",
       "\n",
       "div.sk-parallel-item,\n",
       "div.sk-serial,\n",
       "div.sk-item {\n",
       "  /* draw centered vertical line to link estimators */\n",
       "  background-image: linear-gradient(var(--sklearn-color-text-on-default-background), var(--sklearn-color-text-on-default-background));\n",
       "  background-size: 2px 100%;\n",
       "  background-repeat: no-repeat;\n",
       "  background-position: center center;\n",
       "}\n",
       "\n",
       "/* Parallel-specific style estimator block */\n",
       "\n",
       "#sk-container-id-1 div.sk-parallel-item::after {\n",
       "  content: \"\";\n",
       "  width: 100%;\n",
       "  border-bottom: 2px solid var(--sklearn-color-text-on-default-background);\n",
       "  flex-grow: 1;\n",
       "}\n",
       "\n",
       "#sk-container-id-1 div.sk-parallel {\n",
       "  display: flex;\n",
       "  align-items: stretch;\n",
       "  justify-content: center;\n",
       "  background-color: var(--sklearn-color-background);\n",
       "  position: relative;\n",
       "}\n",
       "\n",
       "#sk-container-id-1 div.sk-parallel-item {\n",
       "  display: flex;\n",
       "  flex-direction: column;\n",
       "}\n",
       "\n",
       "#sk-container-id-1 div.sk-parallel-item:first-child::after {\n",
       "  align-self: flex-end;\n",
       "  width: 50%;\n",
       "}\n",
       "\n",
       "#sk-container-id-1 div.sk-parallel-item:last-child::after {\n",
       "  align-self: flex-start;\n",
       "  width: 50%;\n",
       "}\n",
       "\n",
       "#sk-container-id-1 div.sk-parallel-item:only-child::after {\n",
       "  width: 0;\n",
       "}\n",
       "\n",
       "/* Serial-specific style estimator block */\n",
       "\n",
       "#sk-container-id-1 div.sk-serial {\n",
       "  display: flex;\n",
       "  flex-direction: column;\n",
       "  align-items: center;\n",
       "  background-color: var(--sklearn-color-background);\n",
       "  padding-right: 1em;\n",
       "  padding-left: 1em;\n",
       "}\n",
       "\n",
       "\n",
       "/* Toggleable style: style used for estimator/Pipeline/ColumnTransformer box that is\n",
       "clickable and can be expanded/collapsed.\n",
       "- Pipeline and ColumnTransformer use this feature and define the default style\n",
       "- Estimators will overwrite some part of the style using the `sk-estimator` class\n",
       "*/\n",
       "\n",
       "/* Pipeline and ColumnTransformer style (default) */\n",
       "\n",
       "#sk-container-id-1 div.sk-toggleable {\n",
       "  /* Default theme specific background. It is overwritten whether we have a\n",
       "  specific estimator or a Pipeline/ColumnTransformer */\n",
       "  background-color: var(--sklearn-color-background);\n",
       "}\n",
       "\n",
       "/* Toggleable label */\n",
       "#sk-container-id-1 label.sk-toggleable__label {\n",
       "  cursor: pointer;\n",
       "  display: block;\n",
       "  width: 100%;\n",
       "  margin-bottom: 0;\n",
       "  padding: 0.5em;\n",
       "  box-sizing: border-box;\n",
       "  text-align: center;\n",
       "}\n",
       "\n",
       "#sk-container-id-1 label.sk-toggleable__label-arrow:before {\n",
       "  /* Arrow on the left of the label */\n",
       "  content: \"▸\";\n",
       "  float: left;\n",
       "  margin-right: 0.25em;\n",
       "  color: var(--sklearn-color-icon);\n",
       "}\n",
       "\n",
       "#sk-container-id-1 label.sk-toggleable__label-arrow:hover:before {\n",
       "  color: var(--sklearn-color-text);\n",
       "}\n",
       "\n",
       "/* Toggleable content - dropdown */\n",
       "\n",
       "#sk-container-id-1 div.sk-toggleable__content {\n",
       "  max-height: 0;\n",
       "  max-width: 0;\n",
       "  overflow: hidden;\n",
       "  text-align: left;\n",
       "  /* unfitted */\n",
       "  background-color: var(--sklearn-color-unfitted-level-0);\n",
       "}\n",
       "\n",
       "#sk-container-id-1 div.sk-toggleable__content.fitted {\n",
       "  /* fitted */\n",
       "  background-color: var(--sklearn-color-fitted-level-0);\n",
       "}\n",
       "\n",
       "#sk-container-id-1 div.sk-toggleable__content pre {\n",
       "  margin: 0.2em;\n",
       "  border-radius: 0.25em;\n",
       "  color: var(--sklearn-color-text);\n",
       "  /* unfitted */\n",
       "  background-color: var(--sklearn-color-unfitted-level-0);\n",
       "}\n",
       "\n",
       "#sk-container-id-1 div.sk-toggleable__content.fitted pre {\n",
       "  /* unfitted */\n",
       "  background-color: var(--sklearn-color-fitted-level-0);\n",
       "}\n",
       "\n",
       "#sk-container-id-1 input.sk-toggleable__control:checked~div.sk-toggleable__content {\n",
       "  /* Expand drop-down */\n",
       "  max-height: 200px;\n",
       "  max-width: 100%;\n",
       "  overflow: auto;\n",
       "}\n",
       "\n",
       "#sk-container-id-1 input.sk-toggleable__control:checked~label.sk-toggleable__label-arrow:before {\n",
       "  content: \"▾\";\n",
       "}\n",
       "\n",
       "/* Pipeline/ColumnTransformer-specific style */\n",
       "\n",
       "#sk-container-id-1 div.sk-label input.sk-toggleable__control:checked~label.sk-toggleable__label {\n",
       "  color: var(--sklearn-color-text);\n",
       "  background-color: var(--sklearn-color-unfitted-level-2);\n",
       "}\n",
       "\n",
       "#sk-container-id-1 div.sk-label.fitted input.sk-toggleable__control:checked~label.sk-toggleable__label {\n",
       "  background-color: var(--sklearn-color-fitted-level-2);\n",
       "}\n",
       "\n",
       "/* Estimator-specific style */\n",
       "\n",
       "/* Colorize estimator box */\n",
       "#sk-container-id-1 div.sk-estimator input.sk-toggleable__control:checked~label.sk-toggleable__label {\n",
       "  /* unfitted */\n",
       "  background-color: var(--sklearn-color-unfitted-level-2);\n",
       "}\n",
       "\n",
       "#sk-container-id-1 div.sk-estimator.fitted input.sk-toggleable__control:checked~label.sk-toggleable__label {\n",
       "  /* fitted */\n",
       "  background-color: var(--sklearn-color-fitted-level-2);\n",
       "}\n",
       "\n",
       "#sk-container-id-1 div.sk-label label.sk-toggleable__label,\n",
       "#sk-container-id-1 div.sk-label label {\n",
       "  /* The background is the default theme color */\n",
       "  color: var(--sklearn-color-text-on-default-background);\n",
       "}\n",
       "\n",
       "/* On hover, darken the color of the background */\n",
       "#sk-container-id-1 div.sk-label:hover label.sk-toggleable__label {\n",
       "  color: var(--sklearn-color-text);\n",
       "  background-color: var(--sklearn-color-unfitted-level-2);\n",
       "}\n",
       "\n",
       "/* Label box, darken color on hover, fitted */\n",
       "#sk-container-id-1 div.sk-label.fitted:hover label.sk-toggleable__label.fitted {\n",
       "  color: var(--sklearn-color-text);\n",
       "  background-color: var(--sklearn-color-fitted-level-2);\n",
       "}\n",
       "\n",
       "/* Estimator label */\n",
       "\n",
       "#sk-container-id-1 div.sk-label label {\n",
       "  font-family: monospace;\n",
       "  font-weight: bold;\n",
       "  display: inline-block;\n",
       "  line-height: 1.2em;\n",
       "}\n",
       "\n",
       "#sk-container-id-1 div.sk-label-container {\n",
       "  text-align: center;\n",
       "}\n",
       "\n",
       "/* Estimator-specific */\n",
       "#sk-container-id-1 div.sk-estimator {\n",
       "  font-family: monospace;\n",
       "  border: 1px dotted var(--sklearn-color-border-box);\n",
       "  border-radius: 0.25em;\n",
       "  box-sizing: border-box;\n",
       "  margin-bottom: 0.5em;\n",
       "  /* unfitted */\n",
       "  background-color: var(--sklearn-color-unfitted-level-0);\n",
       "}\n",
       "\n",
       "#sk-container-id-1 div.sk-estimator.fitted {\n",
       "  /* fitted */\n",
       "  background-color: var(--sklearn-color-fitted-level-0);\n",
       "}\n",
       "\n",
       "/* on hover */\n",
       "#sk-container-id-1 div.sk-estimator:hover {\n",
       "  /* unfitted */\n",
       "  background-color: var(--sklearn-color-unfitted-level-2);\n",
       "}\n",
       "\n",
       "#sk-container-id-1 div.sk-estimator.fitted:hover {\n",
       "  /* fitted */\n",
       "  background-color: var(--sklearn-color-fitted-level-2);\n",
       "}\n",
       "\n",
       "/* Specification for estimator info (e.g. \"i\" and \"?\") */\n",
       "\n",
       "/* Common style for \"i\" and \"?\" */\n",
       "\n",
       ".sk-estimator-doc-link,\n",
       "a:link.sk-estimator-doc-link,\n",
       "a:visited.sk-estimator-doc-link {\n",
       "  float: right;\n",
       "  font-size: smaller;\n",
       "  line-height: 1em;\n",
       "  font-family: monospace;\n",
       "  background-color: var(--sklearn-color-background);\n",
       "  border-radius: 1em;\n",
       "  height: 1em;\n",
       "  width: 1em;\n",
       "  text-decoration: none !important;\n",
       "  margin-left: 1ex;\n",
       "  /* unfitted */\n",
       "  border: var(--sklearn-color-unfitted-level-1) 1pt solid;\n",
       "  color: var(--sklearn-color-unfitted-level-1);\n",
       "}\n",
       "\n",
       ".sk-estimator-doc-link.fitted,\n",
       "a:link.sk-estimator-doc-link.fitted,\n",
       "a:visited.sk-estimator-doc-link.fitted {\n",
       "  /* fitted */\n",
       "  border: var(--sklearn-color-fitted-level-1) 1pt solid;\n",
       "  color: var(--sklearn-color-fitted-level-1);\n",
       "}\n",
       "\n",
       "/* On hover */\n",
       "div.sk-estimator:hover .sk-estimator-doc-link:hover,\n",
       ".sk-estimator-doc-link:hover,\n",
       "div.sk-label-container:hover .sk-estimator-doc-link:hover,\n",
       ".sk-estimator-doc-link:hover {\n",
       "  /* unfitted */\n",
       "  background-color: var(--sklearn-color-unfitted-level-3);\n",
       "  color: var(--sklearn-color-background);\n",
       "  text-decoration: none;\n",
       "}\n",
       "\n",
       "div.sk-estimator.fitted:hover .sk-estimator-doc-link.fitted:hover,\n",
       ".sk-estimator-doc-link.fitted:hover,\n",
       "div.sk-label-container:hover .sk-estimator-doc-link.fitted:hover,\n",
       ".sk-estimator-doc-link.fitted:hover {\n",
       "  /* fitted */\n",
       "  background-color: var(--sklearn-color-fitted-level-3);\n",
       "  color: var(--sklearn-color-background);\n",
       "  text-decoration: none;\n",
       "}\n",
       "\n",
       "/* Span, style for the box shown on hovering the info icon */\n",
       ".sk-estimator-doc-link span {\n",
       "  display: none;\n",
       "  z-index: 9999;\n",
       "  position: relative;\n",
       "  font-weight: normal;\n",
       "  right: .2ex;\n",
       "  padding: .5ex;\n",
       "  margin: .5ex;\n",
       "  width: min-content;\n",
       "  min-width: 20ex;\n",
       "  max-width: 50ex;\n",
       "  color: var(--sklearn-color-text);\n",
       "  box-shadow: 2pt 2pt 4pt #999;\n",
       "  /* unfitted */\n",
       "  background: var(--sklearn-color-unfitted-level-0);\n",
       "  border: .5pt solid var(--sklearn-color-unfitted-level-3);\n",
       "}\n",
       "\n",
       ".sk-estimator-doc-link.fitted span {\n",
       "  /* fitted */\n",
       "  background: var(--sklearn-color-fitted-level-0);\n",
       "  border: var(--sklearn-color-fitted-level-3);\n",
       "}\n",
       "\n",
       ".sk-estimator-doc-link:hover span {\n",
       "  display: block;\n",
       "}\n",
       "\n",
       "/* \"?\"-specific style due to the `<a>` HTML tag */\n",
       "\n",
       "#sk-container-id-1 a.estimator_doc_link {\n",
       "  float: right;\n",
       "  font-size: 1rem;\n",
       "  line-height: 1em;\n",
       "  font-family: monospace;\n",
       "  background-color: var(--sklearn-color-background);\n",
       "  border-radius: 1rem;\n",
       "  height: 1rem;\n",
       "  width: 1rem;\n",
       "  text-decoration: none;\n",
       "  /* unfitted */\n",
       "  color: var(--sklearn-color-unfitted-level-1);\n",
       "  border: var(--sklearn-color-unfitted-level-1) 1pt solid;\n",
       "}\n",
       "\n",
       "#sk-container-id-1 a.estimator_doc_link.fitted {\n",
       "  /* fitted */\n",
       "  border: var(--sklearn-color-fitted-level-1) 1pt solid;\n",
       "  color: var(--sklearn-color-fitted-level-1);\n",
       "}\n",
       "\n",
       "/* On hover */\n",
       "#sk-container-id-1 a.estimator_doc_link:hover {\n",
       "  /* unfitted */\n",
       "  background-color: var(--sklearn-color-unfitted-level-3);\n",
       "  color: var(--sklearn-color-background);\n",
       "  text-decoration: none;\n",
       "}\n",
       "\n",
       "#sk-container-id-1 a.estimator_doc_link.fitted:hover {\n",
       "  /* fitted */\n",
       "  background-color: var(--sklearn-color-fitted-level-3);\n",
       "}\n",
       "</style><div id=\"sk-container-id-1\" class=\"sk-top-container\"><div class=\"sk-text-repr-fallback\"><pre>LogisticRegression()</pre><b>In a Jupyter environment, please rerun this cell to show the HTML representation or trust the notebook. <br />On GitHub, the HTML representation is unable to render, please try loading this page with nbviewer.org.</b></div><div class=\"sk-container\" hidden><div class=\"sk-item\"><div class=\"sk-estimator fitted sk-toggleable\"><input class=\"sk-toggleable__control sk-hidden--visually\" id=\"sk-estimator-id-1\" type=\"checkbox\" checked><label for=\"sk-estimator-id-1\" class=\"sk-toggleable__label fitted sk-toggleable__label-arrow fitted\">&nbsp;&nbsp;LogisticRegression<a class=\"sk-estimator-doc-link fitted\" rel=\"noreferrer\" target=\"_blank\" href=\"https://scikit-learn.org/1.4/modules/generated/sklearn.linear_model.LogisticRegression.html\">?<span>Documentation for LogisticRegression</span></a><span class=\"sk-estimator-doc-link fitted\">i<span>Fitted</span></span></label><div class=\"sk-toggleable__content fitted\"><pre>LogisticRegression()</pre></div> </div></div></div></div>"
      ],
      "text/plain": [
       "LogisticRegression()"
      ]
     },
     "execution_count": 59,
     "metadata": {},
     "output_type": "execute_result"
    }
   ],
   "source": [
    "model=LogisticRegression()\n",
    "model.fit(X_train, y_train)"
   ]
  },
  {
   "cell_type": "code",
   "execution_count": 60,
   "id": "fe5d478b-d927-49aa-b322-49a8e2fd2b01",
   "metadata": {},
   "outputs": [
    {
     "name": "stdout",
     "output_type": "stream",
     "text": [
      "Accuracy:0.850365\n",
      "Classification Report:\n",
      "               precision    recall  f1-score   support\n",
      "\n",
      "         0.0       0.85      1.00      0.92       233\n",
      "         1.0       0.00      0.00      0.00        41\n",
      "\n",
      "    accuracy                           0.85       274\n",
      "   macro avg       0.43      0.50      0.46       274\n",
      "weighted avg       0.72      0.85      0.78       274\n",
      "\n"
     ]
    },
    {
     "name": "stderr",
     "output_type": "stream",
     "text": [
      "C:\\ProgramData\\anaconda3\\Lib\\site-packages\\sklearn\\metrics\\_classification.py:1509: UndefinedMetricWarning: Precision is ill-defined and being set to 0.0 in labels with no predicted samples. Use `zero_division` parameter to control this behavior.\n",
      "  _warn_prf(average, modifier, f\"{metric.capitalize()} is\", len(result))\n",
      "C:\\ProgramData\\anaconda3\\Lib\\site-packages\\sklearn\\metrics\\_classification.py:1509: UndefinedMetricWarning: Precision is ill-defined and being set to 0.0 in labels with no predicted samples. Use `zero_division` parameter to control this behavior.\n",
      "  _warn_prf(average, modifier, f\"{metric.capitalize()} is\", len(result))\n",
      "C:\\ProgramData\\anaconda3\\Lib\\site-packages\\sklearn\\metrics\\_classification.py:1509: UndefinedMetricWarning: Precision is ill-defined and being set to 0.0 in labels with no predicted samples. Use `zero_division` parameter to control this behavior.\n",
      "  _warn_prf(average, modifier, f\"{metric.capitalize()} is\", len(result))\n"
     ]
    }
   ],
   "source": [
    "y_pred=model.predict(X_test)\n",
    "accuracy=accuracy_score(y_test, y_pred)\n",
    "report=classification_report(y_test, y_pred)\n",
    "\n",
    "print(f\"Accuracy:{accuracy:2f}\")\n",
    "print(\"Classification Report:\\n\",report)"
   ]
  },
  {
   "cell_type": "code",
   "execution_count": 68,
   "id": "827336bd-2984-4359-95e9-3272d37f37bc",
   "metadata": {},
   "outputs": [
    {
     "name": "stdout",
     "output_type": "stream",
     "text": [
      "[[3 2]\n",
      " [2 3]]\n"
     ]
    }
   ],
   "source": [
    "import numpy as np\n",
    "import matplotlib.pyplot as plt\n",
    "from sklearn.metrics import confusion_matrix\n",
    "import seaborn as sns\n",
    "y_true=[1,0,1,1,0,1,0,0,1,0]\n",
    "y_pred=[1,0,1,0,0,1,1,0,0,1]\n",
    "cm=confusion_matrix(y_true,y_pred)\n",
    "print(cm)"
   ]
  },
  {
   "cell_type": "code",
   "execution_count": 72,
   "id": "3516ed74-19cc-49fd-a902-3f4fd78c70ff",
   "metadata": {},
   "outputs": [
    {
     "data": {
      "image/png": "[encoded data removed]",
      "text/plain": [
       "<Figure size 800x600 with 2 Axes>"
      ]
     },
     "metadata": {},
     "output_type": "display_data"
    }
   ],
   "source": [
    "plt.figure(figsize=(8, 6))\n",
    "sns.heatmap(cm,annot=True,fmt='d',cmap='Blues',\n",
    "xticklabels=True,yticklabels=True)\n",
    "plt.xlabel('Predicted')\n",
    "plt.ylabel('Actual')\n",
    "plt.title('confusion matrix')\n",
    "plt.show()"
   ]
  },
  {
   "cell_type": "code",
   "execution_count": 101,
   "id": "7abd5b74-e9e3-4f4e-b4d3-9a2a7e18af8c",
   "metadata": {},
   "outputs": [
    {
     "data": {
      "image/png": "[encoded data removed]",
      "text/plain": [
       "<Figure size 400x600 with 1 Axes>"
      ]
     },
     "metadata": {},
     "output_type": "display_data"
    }
   ],
   "source": [
    "import matplotlib.pyplot as plt\n",
    "COMPLETION_STATUSES=[1,0,1,1,0]\n",
    "complete_count=COMPLETION_STATUSES.count(1)\n",
    "not_complete_count=COMPLETION_STATUSES.count(0)\n",
    "labels=['complete','not complete']\n",
    "sizes=[complete_count,not_complete_count]\n",
    "colors=['Green','Red']\n",
    "plt.figure(figsize=(4,6))\n",
    "plt.pie(sizes,labels=labels,colors=colors,autopct='%1.1f%%',startangle=140)\n",
    "plt.title('COMPLETION STATUS')\n",
    "plt.axis('equal')\n",
    "plt.show()"
   ]
  },
  {
   "cell_type": "code",
   "execution_count": 93,
   "id": "935a3f62-db92-44fc-a7a6-905164a5ec39",
   "metadata": {},
   "outputs": [
    {
     "data": {
      "image/png": "[encoded data removed]",
      "text/plain": [
       "<Figure size 800x500 with 1 Axes>"
      ]
     },
     "metadata": {},
     "output_type": "display_data"
    }
   ],
   "source": [
    "import seaborn as sns\n",
    "sns.set(style='darkgrid')\n",
    "plt.figure(figsize=(8,5))\n",
    "sns.countplot(data=df,x='FAMILY STATUS',\n",
    "hue='COMPLETION STATUS',palette={0:'blue',1:'red'})\n",
    "plt.title('Comparison of FAMILY STATUS and COMPLETION STATUS')\n",
    "plt.xlabel('FAMILY STATUS')\n",
    "plt.ylabel('Count')\n",
    "plt.xticks(rotation=45)\n",
    "plt.legend(title='COMPLETION STATUS',labels=['Not Complete(0)','Complete(1)'])\n",
    "plt.show()\n",
    "              \n"
   ]
  },
  {
   "cell_type": "code",
   "execution_count": 106,
   "id": "0c64118f-0cd5-4f1d-9526-d9c76ef672b9",
   "metadata": {},
   "outputs": [
    {
     "data": {
      "image/png": "[encoded data removed]",
      "text/plain": [
       "<Figure size 400x600 with 1 Axes>"
      ]
     },
     "metadata": {},
     "output_type": "display_data"
    }
   ],
   "source": [
    "import matplotlib.pyplot as plt\n",
    "FAMILY_STATUS=[1,0,1,0,0,1]\n",
    "both_count=FAMILY_STATUS.count(1)\n",
    "single_count=FAMILY_STATUS.count(0)\n",
    "labels=['Both','Single']\n",
    "sizes=[both_count,single_count]\n",
    "colors=['Purple','Blue']\n",
    "plt.figure(figsize=(4,6))\n",
    "plt.pie(sizes,labels=labels,colors=colors,autopct='%1.1f%%',startangle=140)\n",
    "plt.title('FAMILY STATUS')\n",
    "plt.axis()\n",
    "plt.show()"
   ]
  },
  {
   "cell_type": "code",
   "execution_count": 124,
   "id": "a689cc00-0282-465e-9add-4380a6b9406c",
   "metadata": {},
   "outputs": [
    {
     "data": {
      "image/png": "[encoded data removed]",
      "text/plain": [
       "<Figure size 640x480 with 1 Axes>"
      ]
     },
     "metadata": {},
     "output_type": "display_data"
    }
   ],
   "source": [
    "sns.histplot(df['RESIDENCE'],bins=10,kde=False)\n",
    "plt.title('RESIDENCE Histogram')\n",
    "plt.xlabel('RESIDENCE')\n",
    "plt.ylabel('Frequency')\n",
    "plt.show()"
   ]
  },
  {
   "cell_type": "code",
   "execution_count": 122,
   "id": "44693d80-f287-44ba-ad87-ccd706b48a11",
   "metadata": {},
   "outputs": [
    {
     "data": {
      "image/png": "[encoded data removed]",
      "text/plain": [
       "<Figure size 640x480 with 1 Axes>"
      ]
     },
     "metadata": {},
     "output_type": "display_data"
    }
   ],
   "source": [
    "import matplotlib.pyplot as plt\n",
    "import seaborn as sns\n",
    "sns.countplot(data=df,x='RESIDENCE')\n",
    "plt.title('RESIDENCE DISTRIBUTION')\n",
    "plt.xlabel('RESIDENCE')\n",
    "plt.ylabel('Count')\n",
    "plt.show()"
   ]
  },
  {
   "cell_type": "code",
   "execution_count": null,
   "id": "0e57b112-ecba-4009-a50a-d0087b2f091f",
   "metadata": {},
   "outputs": [],
   "source": []
  }
 ],
 "metadata": {
  "kernelspec": {
   "display_name": "Python 3 (ipykernel)",
   "language": "python",
   "name": "python3"
  },
  "language_info": {
   "codemirror_mode": {
    "name": "ipython",
    "version": 3
   },
   "file_extension": ".py",
   "mimetype": "text/x-python",
   "name": "python",
   "nbconvert_exporter": "python",
   "pygments_lexer": "ipython3",
   "version": "3.12.4"
  }
 },
 "nbformat": 4,
 "nbformat_minor": 5
}
